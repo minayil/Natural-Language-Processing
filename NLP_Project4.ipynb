{
  "nbformat": 4,
  "nbformat_minor": 0,
  "metadata": {
    "colab": {
      "provenance": [],
      "authorship_tag": "ABX9TyNMOC7fc00y8Zn0uNuCxhWL",
      "include_colab_link": true
    },
    "kernelspec": {
      "name": "python3",
      "display_name": "Python 3"
    },
    "language_info": {
      "name": "python"
    }
  },
  "cells": [
    {
      "cell_type": "markdown",
      "metadata": {
        "id": "view-in-github",
        "colab_type": "text"
      },
      "source": [
        "<a href=\"https://colab.research.google.com/github/minayil/Natural-Language-Processing/blob/main/NLP_Project4.ipynb\" target=\"_parent\"><img src=\"https://colab.research.google.com/assets/colab-badge.svg\" alt=\"Open In Colab\"/></a>"
      ]
    },
    {
      "cell_type": "code",
      "execution_count": null,
      "metadata": {
        "id": "X3PYG7pEQT_O"
      },
      "outputs": [],
      "source": [
        "#konu tespiti - kütüphane kullanılabilir"
      ]
    },
    {
      "source": [
        "!pip install nltk\n",
        "import nltk\n",
        "nltk.download('punkt')\n",
        "nltk.download('stopwords')\n",
        "nltk.download('punkt_tab')"
      ],
      "cell_type": "code",
      "metadata": {
        "id": "uxFfl0mj_q1I",
        "outputId": "b24d50f8-f4b1-45ea-cb32-37d185827111",
        "colab": {
          "base_uri": "https://localhost:8080/"
        }
      },
      "execution_count": 4,
      "outputs": [
        {
          "output_type": "stream",
          "name": "stdout",
          "text": [
            "Requirement already satisfied: nltk in /usr/local/lib/python3.10/dist-packages (3.9.1)\n",
            "Requirement already satisfied: click in /usr/local/lib/python3.10/dist-packages (from nltk) (8.1.7)\n",
            "Requirement already satisfied: joblib in /usr/local/lib/python3.10/dist-packages (from nltk) (1.4.2)\n",
            "Requirement already satisfied: regex>=2021.8.3 in /usr/local/lib/python3.10/dist-packages (from nltk) (2024.9.11)\n",
            "Requirement already satisfied: tqdm in /usr/local/lib/python3.10/dist-packages (from nltk) (4.66.6)\n"
          ]
        },
        {
          "output_type": "stream",
          "name": "stderr",
          "text": [
            "[nltk_data] Downloading package punkt to /root/nltk_data...\n",
            "[nltk_data]   Package punkt is already up-to-date!\n",
            "[nltk_data] Downloading package stopwords to /root/nltk_data...\n",
            "[nltk_data]   Package stopwords is already up-to-date!\n",
            "[nltk_data] Downloading package punkt_tab to /root/nltk_data...\n",
            "[nltk_data]   Unzipping tokenizers/punkt_tab.zip.\n"
          ]
        },
        {
          "output_type": "execute_result",
          "data": {
            "text/plain": [
              "True"
            ]
          },
          "metadata": {},
          "execution_count": 4
        }
      ]
    },
    {
      "source": [
        "import nltk\n",
        "import re\n",
        "\n",
        "def konu_tespiti(metin):\n",
        "    metin = metin.lower()\n",
        "    metin = re.sub(r'[^\\w\\s]', '', metin)\n",
        "\n",
        "    kelimeler = nltk.word_tokenize(metin)\n",
        "\n",
        "    konu_kelimeleri = {\n",
        "        'spor': ['futbol', 'basketbol', 'voleybol', 'tenis', 'golf', 'yüzme', 'atletizm'],\n",
        "        'sağlık': ['sağlık', 'doktor', 'hastane', 'ilaç', 'tedavi', 'diyet', 'egzersiz'],\n",
        "        'teknoloji': ['teknoloji', 'bilgisayar', 'internet', 'yazılım', 'donanım', 'telefon', 'robot'],\n",
        "        'siyaset': ['siyaset', 'parti', 'seçim', 'hükümet', 'meclis', 'bakan', 'cumhurbaşkanı'],\n",
        "        'eğlence': ['eğlence', 'film', 'müzik', 'kitap', 'oyun', 'tiyatro', 'konser']\n",
        "    }\n",
        "\n",
        "    #metindeki kelimeleri konu anahtar kelimeleriyle karşılaştırıyorum\n",
        "    konu_skorları = {}\n",
        "    for konu, kelimeler in konu_kelimeleri.items():\n",
        "        skor = sum(1 for kelime in kelimeler if kelime in metin)\n",
        "        konu_skorları[konu] = skor\n",
        "\n",
        "    tahmin_edilen_konu = max(konu_skorları, key=konu_skorları.get)\n",
        "\n",
        "    return tahmin_edilen_konu\n",
        "\n",
        "\n",
        "metin = input(\"bir metin girin: \")\n",
        "tahmin_edilen_konu = konu_tespiti(metin)\n",
        "print(f\"Metnin tahmin edilen konu başlığı: {tahmin_edilen_konu}\")"
      ],
      "cell_type": "code",
      "metadata": {
        "id": "VIsTeW35_wKI"
      },
      "execution_count": null,
      "outputs": []
    }
  ]
}