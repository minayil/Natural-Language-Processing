{
  "nbformat": 4,
  "nbformat_minor": 0,
  "metadata": {
    "colab": {
      "provenance": [],
      "authorship_tag": "ABX9TyOFxcabAQw3kso0DVwEpy4V",
      "include_colab_link": true
    },
    "kernelspec": {
      "name": "python3",
      "display_name": "Python 3"
    },
    "language_info": {
      "name": "python"
    }
  },
  "cells": [
    {
      "cell_type": "markdown",
      "metadata": {
        "id": "view-in-github",
        "colab_type": "text"
      },
      "source": [
        "<a href=\"https://colab.research.google.com/github/minayil/Natural-Language-Processing/blob/main/NLP_Project1.ipynb\" target=\"_parent\"><img src=\"https://colab.research.google.com/assets/colab-badge.svg\" alt=\"Open In Colab\"/></a>"
      ]
    },
    {
      "cell_type": "code",
      "execution_count": 7,
      "metadata": {
        "id": "M8tCtWibbECx"
      },
      "outputs": [],
      "source": [
        "#Dil Tespiti - Türkçe,İngilizce,Almanca,Fransızca,İspanyolca\n",
        "\n",
        "turkce_arsiv = {\"ve\", \"bir\", \"bu\", \"ne\", \"de\", \"ile\", \"ben\", \"sen\", \"ki\", \"o\",\n",
        "    \"da\", \"mi\", \"ama\", \"çok\", \"şey\", \"için\", \"var\", \"yok\", \"hemen\", \"gibi\",\n",
        "    \"ya\", \"benim\", \"senin\", \"biz\", \"onun\", \"olmak\", \"görmek\", \"yapmak\", \"gitmek\",\n",
        "    \"gelmek\", \"bulmak\", \"koymak\", \"almak\", \"vermek\", \"yemek\", \"içmek\", \"bilmek\",\n",
        "    \"oldu\", \"diğer\", \"birçok\", \"bu kadar\", \"önce\", \"sonra\", \"hiç\", \"ya da\",\n",
        "    \"arasında\", \"olmuş\", \"gel\", \"gitti\", \"yapmış\", \"bunu\", \"şu\", \"zaman\",\n",
        "    \"güzel\", \"yine\", \"ancak\", \"bizim\", \"bize\", \"yazmak\", \"söylemek\", \"zaten\",\n",
        "    \"ne kadar\", \"çokça\", \"hepsi\", \"yavaşça\", \"daha\", \"çokça\", \"herhangi\",\n",
        "    \"değil\", \"olabilir\", \"nerede\", \"nasıl\", \"her\", \"belki\", \"durum\", \"bu yüzden\",\n",
        "    \"neden\", \"az\", \"güçlü\", \"başka\", \"yükselmek\", \"en\", \"sadece\", \"herkes\",\n",
        "    \"yavaş\", \"hızlı\", \"işte\", \"görebilmek\", \"yakın\", \"uzak\", \"büyük\", \"küçük\",\n",
        "    \"güç\", \"yeni\", \"önceki\", \"olduğunda\", \"ileriye\", \"burada\", \"şu anda\",\n",
        "    \"bunun gibi\", \"gerçekten\", \"biri\", \"eğer\", \"kim\", \"nerede\", \"bunu yap\",\n",
        "    \"daha önce\", \"yapabiliyor\", \"yapmadım\", \"başlamak\", \"bitirmek\", \"en iyi\",\n",
        "    \"belli\", \"yeter\", \"hatta\", \"bu kadar\", \"yoksa\", \"çünkü\", \"olduğunu\", \"ancak\",\n",
        "    \"ne zaman\", \"olduğunda\", \"ilk\", \"başlangıç\", \"son\", \"fazla\", \"bilmiyorum\"}\n",
        "\n",
        "ingilizce_arsiv = {\"the\", \"be\", \"to\", \"of\", \"and\", \"a\", \"in\", \"that\", \"have\", \"I\",\n",
        "    \"it\", \"for\", \"not\", \"on\", \"with\", \"he\", \"as\", \"you\", \"do\", \"at\",\n",
        "    \"this\", \"but\", \"his\", \"by\", \"from\", \"they\", \"we\", \"say\", \"her\", \"she\",\n",
        "    \"or\", \"an\", \"will\", \"my\", \"one\", \"all\", \"would\", \"there\", \"their\", \"what\",\n",
        "    \"so\", \"up\", \"out\", \"if\", \"about\", \"who\", \"get\", \"which\", \"go\", \"me\", \"when\",\n",
        "    \"make\", \"can\", \"like\", \"time\", \"no\", \"just\", \"him\", \"know\", \"take\", \"people\",\n",
        "    \"into\", \"year\", \"your\", \"good\", \"some\", \"could\", \"them\", \"see\", \"other\", \"than\",\n",
        "    \"then\", \"now\", \"look\", \"only\", \"come\", \"its\", \"over\", \"think\", \"also\", \"back\",\n",
        "    \"after\", \"use\", \"two\", \"how\", \"our\", \"work\", \"first\", \"well\", \"way\", \"even\",\n",
        "    \"new\", \"want\", \"because\", \"any\", \"these\", \"give\", \"day\", \"most\", \"us\", \"is\",\n",
        "    \"are\", \"was\", \"were\", \"have\", \"has\", \"had\", \"did\", \"does\", \"should\", \"could\",\n",
        "    \"might\", \"must\", \"still\", \"see\", \"here\", \"through\", \"much\", \"too\", \"goes\"}\n",
        "\n",
        "almanca_arsiv = {\"der\", \"die\", \"und\", \"in\", \"zu\", \"den\", \"das\", \"nicht\", \"von\", \"mit\",\n",
        "    \"ich\", \"es\", \"für\", \"auf\", \"sich\", \"auch\", \"an\", \"werden\", \"aus\", \"bei\",\n",
        "    \"hat\", \"dass\", \"wir\", \"er\", \"so\", \"eine\", \"sein\", \"wie\", \"im\", \"noch\",\n",
        "    \"vor\", \"mehr\", \"man\", \"oder\", \"wenn\", \"aber\", \"ist\", \"als\", \"nach\", \"bei\",\n",
        "    \"ja\", \"werden\", \"kann\", \"mit\", \"ich\", \"uns\", \"was\", \"über\", \"wird\", \"nach\",\n",
        "    \"haben\", \"bis\", \"diese\", \"wieder\", \"ihm\", \"sie\", \"von\", \"gut\", \"nun\", \"nein\",\n",
        "    \"mein\", \"jemand\", \"wird\", \"alle\", \"durch\", \"für\", \"kommen\", \"allein\", \"damit\",\n",
        "    \"lang\", \"nochmal\", \"immer\", \"sich\", \"viel\", \"sehr\", \"zuerst\", \"heute\", \"viel\",\n",
        "    \"sehen\", \"diese\", \"damit\", \"also\", \"teil\", \"jetzt\", \"er\", \"gleich\", \"nachdem\",\n",
        "    \"selbst\", \"anderen\", \"weniger\", \"damals\", \"gehabt\", \"her\", \"keine\", \"werden\"}\n",
        "\n",
        "fransızca_arsiv = {\"le\", \"bonjour\", \"c'est\", \"être\", \"essai\", \"et\", \"en\", \"avoir\", \"que\", \"pour\", \"dans\",\n",
        "    \"ce\", \"il\", \"qui\", \"ne\", \"sur\", \"se\", \"pas\", \"avec\", \"les\", \"plus\", \"elle\",\n",
        "    \"tout\", \"faire\", \"son\", \"mettre\", \"au\", \"ou\", \"comme\", \"bien\", \"nous\", \"avoir\",\n",
        "    \"dire\", \"par\", \"elles\", \"vous\", \"cependant\", \"autre\", \"avant\", \"voir\", \"ils\",\n",
        "    \"aussi\", \"sont\", \"même\", \"enfant\", \"si\", \"quel\", \"mon\", \"non\", \"pas\", \"sur\",\n",
        "    \"lorsque\", \"tous\", \"moi\", \"aussi\", \"c'est\", \"être\", \"sans\", \"très\", \"encore\",\n",
        "    \"parler\", \"devant\", \"trouver\", \"temps\", \"commencer\", \"les\", \"notre\", \"quelque\",\n",
        "    \"faut\", \"ici\", \"savoir\", \"tous\", \"rien\", \"chose\", \"on\", \"car\", \"vous\", \"aucun\",\n",
        "    \"lequel\", \"faire\", \"seul\", \"à\", \"rester\", \"d'un\", \"quand\", \"un\", \"cette\", \"partir\",\n",
        "    \"combien\", \"depuis\", \"enfin\", \"aura\", \"pendant\", \"nouveau\", \"autres\", \"tout\"}\n",
        "\n",
        "ispanyolca_arsiv = {\"el\", \"hola\", \"la\", \"y\", \"está\", \"en\", \"ser\", \"tener\", \"que\", \"hacer\", \"con\",\n",
        "    \"se\", \"por\", \"su\", \"para\", \"como\", \"estar\", \"en\", \"esto\", \"todo\", \"al\", \"pero\",\n",
        "    \"más\", \"ya\", \"muy\", \"prueba\", \"uno\", \"ni\", \"nos\", \"me\", \"hasta\", \"cuando\", \"toda\",\n",
        "    \"también\", \"otros\", \"este\", \"la\", \"si\", \"esto\", \"deber\", \"he\", \"quién\", \"hacer\",\n",
        "    \"algún\", \"esta\", \"de\", \"donde\", \"ir\", \"tiempo\", \"cual\", \"puede\", \"ella\", \"mí\",\n",
        "    \"mucho\", \"hacer\", \"ese\", \"cada\", \"esto\", \"en\", \"un\", \"lo\", \"su\", \"usted\", \"nosotros\",\n",
        "    \"pasar\", \"ningún\", \"ninguna\", \"aquí\", \"a\", \"de\", \"ser\", \"muchos\", \"todos\", \"haber\",\n",
        "    \"sólo\", \"porque\", \"de\", \"una\", \"mismo\", \"quiere\", \"ahora\", \"aquel\", \"cómo\", \"yo\",\n",
        "    \"ella\", \"tú\", \"alguna\", \"algo\", \"quien\", \"de\", \"esta\", \"sería\", \"y\", \"como\", \"sólo\"}"
      ]
    },
    {
      "cell_type": "code",
      "source": [
        "language_keywords = {\"Türkçe\": turkce_arsiv, \"İngilizce\": ingilizce_arsiv, \"Almanca\": almanca_arsiv, \"Fransızca\": fransızca_arsiv, \"İspanyolca\": ispanyolca_arsiv}"
      ],
      "metadata": {
        "id": "gcPTsRbjv5in"
      },
      "execution_count": 8,
      "outputs": []
    },
    {
      "cell_type": "code",
      "source": [
        "\n",
        "def duzenle(metin):\n",
        "  metin = metin.lower()\n",
        "  words = \"\"\n",
        "  for char in metin:\n",
        "    if char.isalpha() or char.isspace():\n",
        "      words += char\n",
        "    else:\n",
        "      words += \" \"\n",
        "  words = words.split()\n",
        "  return words\n",
        "\n",
        "def benzerlik(words):\n",
        "  dil_skorlari = {}\n",
        "  for dil, kelime_listesi in language_keywords.items():\n",
        "    skor = 0\n",
        "    for kelime in words:\n",
        "      if kelime in kelime_listesi:\n",
        "        skor += 1\n",
        "    dil_skorlari[dil] = skor / len(kelime_listesi)\n",
        "\n",
        "  tahmin_edilen_dil = max(dil_skorlari, key=dil_skorlari.get)\n",
        "  return tahmin_edilen_dil\n",
        "\n",
        "\n",
        "metin = input(\"Metin giriniz: \")\n",
        "words = duzenle(metin)\n",
        "tahmin_edilen_dil = benzerlik(words)\n",
        "print(\"Tahmin edilen dil:\", tahmin_edilen_dil)"
      ],
      "metadata": {
        "id": "Eziaf6BBmrcb",
        "collapsed": true
      },
      "execution_count": null,
      "outputs": []
    }
  ]
}