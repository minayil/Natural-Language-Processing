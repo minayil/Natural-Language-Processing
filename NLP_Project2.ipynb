{
  "nbformat": 4,
  "nbformat_minor": 0,
  "metadata": {
    "colab": {
      "provenance": [],
      "authorship_tag": "ABX9TyPeU+8k+EUYsSmSrWVoH99A",
      "include_colab_link": true
    },
    "kernelspec": {
      "name": "python3",
      "display_name": "Python 3"
    },
    "language_info": {
      "name": "python"
    }
  },
  "cells": [
    {
      "cell_type": "markdown",
      "metadata": {
        "id": "view-in-github",
        "colab_type": "text"
      },
      "source": [
        "<a href=\"https://colab.research.google.com/github/minayil/Natural-Language-Processing/blob/main/NLP_Project2.ipynb\" target=\"_parent\"><img src=\"https://colab.research.google.com/assets/colab-badge.svg\" alt=\"Open In Colab\"/></a>"
      ]
    },
    {
      "cell_type": "code",
      "source": [
        "#Konu Tespiti - Siyaset, Teknoloji, Spor, Sağlık, Eğlence\n",
        "\n",
        "wordsof_siyaset = {\"seçim\", \"parti\", \"hükümet\", \"siyasetçi\", \"aday\", \"anayasa\", \"referandum\", \"iktidar\", \"muhalefet\", \"demokrasi\", \"parlamenter\", \"cumhurbaşkanı\", \"başkan\", \"milletvekili\", \"yasama\", \"yürütme\", \"yargı\", \"hükümet kurma\", \"seçim sonuçları\", \"koalisyon\", \"seçim kampanyası\", \"seçim propagandası\", \"devlet\", \"anayasa\", \"yasalar\", \"siyasi partiler\", \"halk oylaması\", \"seçmen\", \"sandık\", \"oy verme\", \"seçim sandığı\", \"seçim sistemi\", \"siyasi dava\", \"baraj\", \"başkanlık\", \"başbakan\", \"parti programı\", \"kamuoyu\", \"kampanya\", \"miting\", \"referandumu\", \"liderlik\", \"parti başkanı\", \"işsizlik\", \"yoksulluk\", \"eğitim\", \"emek\", \"vergi\", \"kamu hizmetleri\", \"bakan\", \"enflasyon\", \"bütçe\", \"reform\", \"dış politika\", \"ekonomi\", \"AB\", \"NATO\", \"millet\", \"egemenlik\", \"bağımsızlık\", \"ordu\", \"terörizm\", \"barış\", \"çatışma\", \"yönetim\", \"iktidar mücadelesi\", \"muhalefet partisi\", \"anayasa değişikliği\", \"sivil toplum\", \"etnik kimlik\", \"demokratikleşme\", \"küreselleşme\", \"azınlık hakları\", \"devlet başkanı\", \"seçim bölgesi\", \"yerel seçim\", \"seçim kampanyası\", \"oy pusulası\", \"siyasi lider\", \"oy kullanma\", \"hükümet politikaları\", \"dış ilişkiler\", \"yerel yönetimler\", \"sosyalizm\", \"kapitalizm\", \"demokrasi\", \"totalitarizm\", \"ordu\", \"milliyetçilik\", \"hoşgörü\", \"özgürlük\", \"eşitlik\", \"bağımsızlık\", \"üniter devlet\", \"devrim\", \"partizanlık\", \"yolsuzluk\", \"protesto\"}\n",
        "\n",
        "wordsof_teknoloji = {\"yazılım\", \"donanım\", \"bilgisayar\", \"teknoloji\", \"geliştirici\", \"programlama\", \"yapay zeka\", \"makine öğrenmesi\", \"algoritma\", \"robotik\", \"ağ\", \"internet\", \"veri\", \"veri analizi\", \"büyük veri\", \"bulut\", \"uygulama\", \"işletim sistemi\", \"mobil\", \"oyun\", \"yazılım geliştirme\", \"teknoloji şirketi\", \"sanal gerçeklik\", \"artırılmış gerçeklik\", \"blockchain\", \"kripto para\", \"5G\", \"IoT\", \"yapay zeka\", \"tasarım\", \"mühendislik\", \"siber güvenlik\", \"kodlama\", \"veri tabanı\", \"web tasarımı\", \"mobil uygulama\", \"akıllı telefon\", \"bilgisayar mühendisliği\", \"yapay sinir ağları\", \"internet of things\", \"endüstriyel otomasyon\", \"micro işlemci\", \"donanım tasarımı\", \"teknolojik yenilik\", \"teknoloji trendleri\", \"dijitalleşme\", \"veritabanı\", \"HTML\", \"CSS\", \"JavaScript\", \"Python\", \"Java\", \"C++\", \"PHP\", \"yazılım geliştirme\", \"işletim sistemi\", \"açık kaynak\", \"teknoloji startup\", \"teknoloji forumları\", \"biyoteknoloji\", \"nesnelerin interneti\", \"e-ticaret\", \"dijital pazarlama\", \"SEO\", \"UI/UX\", \"yazılım mühendisliği\", \"ağ güvenliği\", \"veri güvenliği\", \"yapay zeka uygulamaları\", \"programlama dilleri\", \"e-spor\", \"veri madenciliği\", \"biyomedikal mühendislik\", \"chip\", \"mikrodenetleyici\", \"veri analizi\", \"yüksek teknoloji\", \"yazılım güncellemesi\", \"teknoloji haberleri\", \"dijital dönüşüm\", \"yazılım testi\", \"mühendislik tasarımı\", \"dijital uygulamalar\", \"ağ yapısı\", \"teknoloji eğitimi\", \"otomasyon\", \"makine öğrenmesi algoritmaları\", \"yazılım mimarisi\", \"donanım geliştirme\", \"teknolojik gelişmeler\", \"yazılım dili\", \"web geliştirme\", \"veri bilimi\", \"siber suç\", \"otomatikleştirilmiş sistemler\", \"yapay zeka araçları\", \"teknoloji üretimi\", \"teknoloji araştırmaları\", \"teknoloji ve eğitim\", \"robotik mühendislik\"}\n",
        "\n",
        "wordsof_spor = {\"futbol\", \"basketbol\", \"maç\", \"spor\", \"takım\", \"antrenman\", \"futbolcu\", \"antrenör\", \"lig\", \"şampiyonluk\", \"gol\", \"asist\", \"penaltı\", \"serbest atış\", \"turnuva\", \"olimpiyat\", \"atletizm\", \"koşu\", \"yüzme\", \"voleybol\", \"bisiklet\", \"tenis\", \"golf\", \"boks\", \"güreş\", \"ragbi\", \"kayak\", \"jimnastik\", \"dövüş sporları\", \"MMA\", \"takım oyunu\", \"bireysel spor\", \"spor salonu\", \"fitness\", \"kardiyo\", \"güç\", \"dayanıklılık\", \"sporcu\", \"spor salonu\", \"beslenme\", \"spor hekimliği\", \"fiziksel aktivite\", \"sağlıklı yaşam\", \"spor takımı\", \"stadyum\", \"taraftar\", \"şampiyon\", \"final\", \"yarı final\", \"grup aşaması\", \"kupa\", \"kupa maçı\", \"saha\", \"oyuncu\", \"yöneticiler\", \"spor kulübü\", \"maç saatleri\", \"spor haberleri\", \"yarı final\", \"şampiyonluk mücadelesi\", \"spor organizasyonları\", \"spor basını\", \"futbol turnuvası\", \"basketbol turnuvası\", \"dünya şampiyonası\", \"Avrupa şampiyonası\", \"olimpiyat oyunları\", \"atletizm yarışması\", \"spor performansı\", \"sakatlık\", \"spor sakatlıkları\", \"fiziksel egzersiz\", \"spor testi\", \"strateji\", \"maç analizi\", \"motivasyon\", \"oyun taktikleri\", \"takım ruhu\", \"sporcu gelişimi\", \"hazırlık kampı\", \"saha içi\", \"saha dışı\", \"sporcu sağlık\", \"spor beslenmesi\", \"olimpiyat madalyası\", \"bireysel performans\", \"fiziksel güç\", \"hız\", \"dayanıklılık\", \"spor eğitimi\", \"spor bilimleri\", \"top\", \"raket\", \"spor psikolojisi\", \"sporcunun gelişimi\", \"spor kültürü\", \"spor eğitmeni\", \"takım stratejisi\", \"lig şampiyonluğu\", \"atletik performans\", \"profesyonel spor\", \"amatör spor\", \"spor bilimleri\", \"spor okulu\", \"spor eğitimi\", \"stadyum atmosferi\"}\n",
        "\n",
        "wordsof_saglik = {\"hastalık\", \"tedavi\", \"sağlık\", \"doktor\", \"sağlık sigortası\", \"ilaç\", \"hastane\", \"muayene\", \"cerrah\", \"ameliyat\", \"enfeksiyon\", \"virüs\", \"bağışıklık\", \"aşı\", \"kanser\", \"kardiyoloji\", \"diyabet\", \"tıbbi\", \"sağlıklı yaşam\", \"egzersiz\", \"beslenme\", \"fiziksel aktivite\", \"kalp\", \"damar hastalıkları\", \"zihinsel sağlık\", \"psikoloji\", \"psikiyatri\", \"stres\", \"depresyon\", \"terapi\", \"psikoterapi\", \"klinik\", \"hasta\", \"sağlık hizmetleri\", \"sağlıklı beslenme\", \"egzersiz programı\", \"vitamin\", \"mineral\", \"diyet\", \"kilo kontrolü\", \"obezite\", \"sindirim\", \"karaciğer\", \"böbrek\", \"kanser tedavisi\", \"tıbbi araştırma\", \"tıbbi cihazlar\", \"hastalık öncesi\", \"tedavi yöntemleri\", \"antibiyotik\", \"ağrı kesici\", \"genetik\", \"genetik hastalıklar\", \"fizik tedavi\", \"travma\", \"sağlıklı alışkanlıklar\", \"hastalıklar\", \"koruyucu sağlık\", \"kardiyovasküler\", \"pulmoner\", \"kanser taraması\", \"sağlık eğitimi\", \"bağışıklık sistemi\", \"aşılar\", \"sağlık politikaları\", \"birinci basamak sağlık\", \"hastalıkların belirtileri\", \"bağışıklık güçlendirme\", \"düzenli kontrol\", \"yüksek tansiyon\", \"obezite tedavisi\", \"cilt hastalıkları\", \"acil sağlık\", \"medikal tedavi\", \"acil servis\", \"şifa\", \"tedavi planı\", \"beslenme alışkanlıkları\", \"sağlıklı yaşam tarzı\", \"fiziksel sağlık\", \"organ nakli\", \"doktor kontrolü\", \"ruhsal sağlık\", \"rehabilitasyon\", \"ağrı yönetimi\", \"ilaç tedavisi\", \"çocuk sağlığı\", \"kadın sağlığı\", \"erkek sağlığı\", \"yaşlanma\", \"metabolizma\", \"kardiyovasküler sağlık\", \"sporcu sağlığı\"}\n",
        "\n",
        "wordsof_eglence = {\"film\", \"dizi\", \"müzik\", \"sanat\", \"eğlence\", \"konser\", \"şarkıcı\", \"oyuncu\", \"yönetmen\", \"tiyatro\", \"sinema\", \"komedi\", \"dram\", \"aksiyon\", \"animasyon\", \"belgesel\", \"senaryo\", \"yapımcı\", \"galalar\", \"eğlence parkı\", \"video oyunları\", \"müzik albümü\", \"eğlence endüstrisi\", \"televizyon\", \"müzik grubu\", \"oyunculuk\", \"sahne\", \"şarkı\", \"popüler kültür\", \"sosyal medya\", \"stand-up\", \"reality show\", \"yarışma\", \"dizi oyuncusu\", \"komik\", \"eğlenceli\", \"gece hayatı\", \"dans\", \"party\", \"DJ\", \"eğlence mekânı\", \"tatil\", \"seyahat\", \"sokak gösterisi\", \"festivaller\", \"konserler\", \"televizyon şovu\", \"film gösterimi\", \"sinemasever\", \"kültürel etkinlik\", \"ödül töreni\", \"moda\", \"sahne gösterisi\", \"dansçı\", \"şarkı yarışması\", \"eğlence teknolojisi\", \"gece kulübü\", \"müzik festivali\", \"konser bileti\", \"film seti\", \"sinema salonu\", \"oyunculuk dersleri\", \"pop müzik\", \"rock müzik\", \"rap müzik\", \"elektronik müzik\", \"klasik müzik\", \"video klip\", \"radyo\", \"karaoke\", \"karaoke gece\", \"eğlence içerikleri\", \"vlog\", \"video blog\", \"dizi bölümü\", \"komedi şovları\", \"TV dizileri\", \"gece kulübü\", \"masal\", \"eğlenceyi keşfetmek\", \"eğlenceli aktiviteler\"}\n"
      ],
      "metadata": {
        "id": "UyAi8p5LDwx6"
      },
      "execution_count": 8,
      "outputs": []
    },
    {
      "cell_type": "code",
      "source": [
        "subject_keywords = {\n",
        "    \"siyaset\": wordsof_siyaset,\n",
        "    \"teknoloji\": wordsof_teknoloji,\n",
        "    \"spor\": wordsof_spor,\n",
        "    \"saglik\": wordsof_saglik,\n",
        "    \"eglence\": wordsof_eglence}"
      ],
      "metadata": {
        "id": "EjhiFXZJFdpA"
      },
      "execution_count": 9,
      "outputs": []
    },
    {
      "cell_type": "code",
      "source": [
        "def duzenle(metin):\n",
        "  metin = metin.lower()\n",
        "  words = \"\"\n",
        "  for char in metin:\n",
        "    if char.isalpha() or char.isspace():\n",
        "      words += char\n",
        "    else:\n",
        "      words += \" \"\n",
        "  words = words.split()\n",
        "  return words\n",
        "\n",
        "def tahmin_et(words):\n",
        "  konu_skorlari = {}\n",
        "  for konu, keywords in subject_keywords.items():\n",
        "    konu_skorlari[konu] = 0\n",
        "    for word in words:\n",
        "      if word in keywords:\n",
        "        konu_skorlari[konu] += 1\n",
        "    konu_skorlari[konu] = konu_skorlari[konu] / len(words)\n",
        "\n",
        "  tahmin_edilen_konu = max(konu_skorlari, key=konu_skorlari.get)\n",
        "  if konu_skorlari[tahmin_edilen_konu] == 0:\n",
        "    tahmin_edilen_konu = \"diğer konular\"\n",
        "\n",
        "  return tahmin_edilen_konu\n",
        "\n",
        "metin = input(\"bir metin giriniz: \")\n",
        "words = duzenle(metin)\n",
        "tahmin_edilen_konu = tahmin_et(words)\n",
        "print(\"Tahmin edilen konu: \", tahmin_edilen_konu)"
      ],
      "metadata": {
        "id": "6ypYMMElFoaG"
      },
      "execution_count": null,
      "outputs": []
    }
  ]
}